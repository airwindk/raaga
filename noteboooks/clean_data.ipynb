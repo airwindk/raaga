{
 "cells": [
  {
   "cell_type": "code",
   "execution_count": null,
   "metadata": {},
   "outputs": [],
   "source": [
    "import json\n",
    "import os\n",
    "os.chdir('..')\n",
    "import pandas as pd\n",
    "import matplotlib.pyplot as plt\n",
    "from collections import Counter\n",
    "from pathlib import Path\n",
    "import hashlib"
   ]
  },
  {
   "cell_type": "code",
   "execution_count": 2,
   "metadata": {},
   "outputs": [],
   "source": [
    "MIN_COUNT = 10"
   ]
  },
  {
   "cell_type": "code",
   "execution_count": 3,
   "metadata": {},
   "outputs": [],
   "source": [
    "def get_hash(str_value):\n",
    "    hash_object = hashlib.sha1(str_value.encode('utf-8'))\n",
    "    hex_dig = hash_object.hexdigest()\n",
    "    return hex_dig\n",
    "\n",
    "def get_file_name(url):\n",
    "    file_format = Path(url).suffix\n",
    "    file_name = get_hash(url) + file_format\n",
    "    return file_name"
   ]
  },
  {
   "cell_type": "code",
   "execution_count": 6,
   "metadata": {},
   "outputs": [],
   "source": [
    "with open('data/raw/bhajans_info.json', mode ='r') as file:\n",
    "    d = json.loads(file.read())\n",
    "    df = pd.DataFrame(d)\n",
    "    df.dropna(inplace=True)\n",
    "    df.reset_index(inplace=True, drop=True)\n",
    "    df = df[df['link'].str.contains('.mp3')]"
   ]
  },
  {
   "cell_type": "code",
   "execution_count": 13,
   "metadata": {},
   "outputs": [],
   "source": [
    "unwanted_text = ['Major (', 'Minor (', '~', ')']\n",
    "new_text = len(unwanted_text) * [\"\"]\n",
    "\n",
    "for item in zip(unwanted_text, new_text):\n",
    "    df['raaga'] = df['raaga'].apply(lambda x: x.replace(*item).strip())\n",
    "    \n",
    "final_raagas = {raaga: count for raaga, count in Counter(df['raaga']).items() if count > MIN_COUNT}"
   ]
  },
  {
   "cell_type": "code",
   "execution_count": 17,
   "metadata": {},
   "outputs": [
    {
     "name": "stderr",
     "output_type": "stream",
     "text": [
      "C:\\Users\\ak692\\Anaconda3\\envs\\raaga\\lib\\site-packages\\ipykernel_launcher.py:2: SettingWithCopyWarning: \n",
      "A value is trying to be set on a copy of a slice from a DataFrame.\n",
      "Try using .loc[row_indexer,col_indexer] = value instead\n",
      "\n",
      "See the caveats in the documentation: https://pandas.pydata.org/pandas-docs/stable/user_guide/indexing.html#returning-a-view-versus-a-copy\n",
      "  \n"
     ]
    }
   ],
   "source": [
    "df = df[df['raaga'].isin(final_raagas.keys())]\n",
    "df['file_name'] = [\"data/raw/bhajans_audio/\" + get_file_name(link) for link in df['link']]\n",
    "df.reset_index(drop=True, inplace=True)\n",
    "df.to_csv(\"data/processed/bhajans_info_cleaned.csv\", index=False)"
   ]
  }
 ],
 "metadata": {
  "kernelspec": {
   "display_name": "Python 3",
   "language": "python",
   "name": "python3"
  },
  "language_info": {
   "codemirror_mode": {
    "name": "ipython",
    "version": 3
   },
   "file_extension": ".py",
   "mimetype": "text/x-python",
   "name": "python",
   "nbconvert_exporter": "python",
   "pygments_lexer": "ipython3",
   "version": "3.7.7"
  }
 },
 "nbformat": 4,
 "nbformat_minor": 4
}
