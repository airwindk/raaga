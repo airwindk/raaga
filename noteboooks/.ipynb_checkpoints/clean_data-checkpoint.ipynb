{
 "cells": [
  {
   "cell_type": "code",
   "execution_count": 1,
   "metadata": {},
   "outputs": [],
   "source": [
    "import json\n",
    "import os\n",
    "os.chdir('..')\n",
    "import pandas as pd"
   ]
  },
  {
   "cell_type": "code",
   "execution_count": 2,
   "metadata": {},
   "outputs": [],
   "source": [
    "with open('data/raw/bhajans_info.json', mode ='r') as file:\n",
    "    bhajan_list = json.loads(file.read())\n",
    "    bhajan_df = pd.DataFrame(bhajan_list)\n",
    "    bhajan_df.dropna(inplace=True)\n",
    "    bhajan_df.reset_index(inplace=True, drop=True)\n",
    "    bhajan_df.to_csv('data/processed/bhajans_info_cleaned.csv')"
   ]
  }
 ],
 "metadata": {
  "kernelspec": {
   "display_name": "Python 3",
   "language": "python",
   "name": "python3"
  },
  "language_info": {
   "codemirror_mode": {
    "name": "ipython",
    "version": 3
   },
   "file_extension": ".py",
   "mimetype": "text/x-python",
   "name": "python",
   "nbconvert_exporter": "python",
   "pygments_lexer": "ipython3",
   "version": "3.7.7"
  }
 },
 "nbformat": 4,
 "nbformat_minor": 4
}
