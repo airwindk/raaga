{
 "cells": [
  {
   "cell_type": "code",
   "execution_count": 1,
   "metadata": {},
   "outputs": [],
   "source": [
    "import pandas as pd\n",
    "import os\n",
    "import urllib\n",
    "from pathlib import Path\n",
    "import hashlib\n",
    "from tqdm import tqdm\n",
    "os.chdir('..')"
   ]
  },
  {
   "cell_type": "code",
   "execution_count": 8,
   "metadata": {},
   "outputs": [],
   "source": [
    "def get_hash(str_value):\n",
    "    hash_object = hashlib.sha1(str_value.encode('utf-8'))\n",
    "    hex_dig = hash_object.hexdigest()\n",
    "    return hex_dig\n",
    "\n",
    "def get_file_name(url):\n",
    "    file_format = Path(url).suffix\n",
    "    file_name = get_hash(url) + file_format\n",
    "    return file_name\n",
    "\n",
    "def download_audio(url, path):\n",
    "    file_name = path + \"/\" + get_file_name(url)\n",
    "    urllib.request.urlretrieve(url, file_name)\n",
    "    return file_name"
   ]
  },
  {
   "cell_type": "code",
   "execution_count": 2,
   "metadata": {},
   "outputs": [],
   "source": [
    "bhajan_df = pd.read_csv(\"data/processed/bhajans_info_cleaned.csv\")"
   ]
  },
  {
   "cell_type": "code",
   "execution_count": 9,
   "metadata": {},
   "outputs": [
    {
     "name": "stderr",
     "output_type": "stream",
     "text": [
      "100%|██████████████████████████████████████████████████████████████████████████████| 1180/1180 [17:18<00:00,  1.14it/s]\n"
     ]
    }
   ],
   "source": [
    "file_names = []\n",
    "g\n",
    "    file_name = download_audio(link, \"data/raw/bhajans_audio\")\n",
    "    file_names += [file_name]"
   ]
  },
  {
   "cell_type": "code",
   "execution_count": 10,
   "metadata": {},
   "outputs": [],
   "source": [
    "bhajan_df['file_name'] = file_names\n",
    "bhajan_df.to_csv(\"data/processed/bhajans_info_cleaned.csv\")"
   ]
  }
 ],
 "metadata": {
  "kernelspec": {
   "display_name": "Python 3",
   "language": "python",
   "name": "python3"
  },
  "language_info": {
   "codemirror_mode": {
    "name": "ipython",
    "version": 3
   },
   "file_extension": ".py",
   "mimetype": "text/x-python",
   "name": "python",
   "nbconvert_exporter": "python",
   "pygments_lexer": "ipython3",
   "version": "3.7.7"
  }
 },
 "nbformat": 4,
 "nbformat_minor": 4
}
