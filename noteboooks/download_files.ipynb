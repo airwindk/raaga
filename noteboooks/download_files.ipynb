{
 "cells": [
  {
   "cell_type": "code",
   "execution_count": 1,
   "metadata": {},
   "outputs": [],
   "source": [
    "import pandas as pd\n",
    "import os\n",
    "import urllib\n",
    "from pathlib import Path\n",
    "import hashlib\n",
    "from tqdm import tqdm\n",
    "os.chdir('..')\n",
    "\n",
    "def download_audio(url, file_name):\n",
    "    urllib.request.urlretrieve(url, file_name)\n",
    "\n",
    "df = pd.read_csv(\"data/processed/bhajans_info_cleaned.csv\")\n",
    "\n",
    "links, file_names = df['Link'].tolist(), df['file_name'].tolist()\n",
    "\n",
    "for item in tqdm(zip(links, file_names)):\n",
    "    download_audio(*item)"
   ]
  }
 ],
 "metadata": {
  "kernelspec": {
   "display_name": "Python 3",
   "language": "python",
   "name": "python3"
  },
  "language_info": {
   "codemirror_mode": {
    "name": "ipython",
    "version": 3
   },
   "file_extension": ".py",
   "mimetype": "text/x-python",
   "name": "python",
   "nbconvert_exporter": "python",
   "pygments_lexer": "ipython3",
   "version": "3.7.7"
  }
 },
 "nbformat": 4,
 "nbformat_minor": 4
}
