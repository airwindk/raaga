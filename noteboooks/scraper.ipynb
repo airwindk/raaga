{
 "cells": [
  {
   "cell_type": "code",
   "execution_count": null,
   "metadata": {},
   "outputs": [],
   "source": [
    "import os\n",
    "os.chdir('..')\n",
    "\n",
    "import scrapy\n",
    "from scrapy.spiders import CrawlSpider, Rule\n",
    "from scrapy.crawler import CrawlerProcess\n",
    "from scrapy.linkextractors import LinkExtractor\n",
    "\n",
    "class BhajanSpider(CrawlSpider):\n",
    "    \n",
    "    name = \"Bhajans\"\n",
    "    # allowed_domains = ['sairhythms.org/song']\n",
    "    # base_url = ['\"https:/www.sairhythms.org/']\n",
    "\n",
    "    start_urls = [\n",
    "        'https://sairhythms.org/'\n",
    "\n",
    "    ]\n",
    "    \n",
    "    rules = (\n",
    "        Rule(LinkExtractor(allow = \"/song/\"), callback='parse_item', follow=True),\n",
    "    )\n",
    "    \n",
    "    def parse_item(self, response):\n",
    "        def extract_with_xpath(query):\n",
    "            return response.xpath(query).xpath('string(.)').get()\n",
    "        \n",
    "        return {\n",
    "            'Link': response.xpath(\"\"\"//div[contains(@class, 'audio-link')]//a[1]\"\"\").xpath('text()').get(),\n",
    "            'Deity': extract_with_xpath(\"\"\"//div[contains(@class, 'deity-row')]//div[2]\"\"\"),\n",
    "            'Language': extract_with_xpath(\"\"\"//div[contains(@class, 'language-row')]//div[2]\"\"\"),\n",
    "            'Raga': extract_with_xpath(\"\"\"//div[contains(@class, 'raga-title')]\"\"\"), # excludes other ragas for songs with multiple ragas (only includes first)\n",
    "            # 'Raga': extract_with_xpath(\"\"\"//div[contains(@class, 'raga-row')]//div[2]\"\"\"), # This gets all text but includes noise\n",
    "            'Beat': extract_with_xpath(\"\"\"//div[contains(@class, 'beat-row')]//div[2]\"\"\"),\n",
    "            'Level': extract_with_xpath(\"\"\"//div[contains(@class, 'level-row')]//div[2]\"\"\"),\n",
    "            'Tempo': extract_with_xpath(\"\"\"//div[contains(@class, 'tempo-row')]//div[2]\"\"\")\n",
    "        }"
   ]
  },
  {
   "cell_type": "code",
   "execution_count": null,
   "metadata": {
    "scrolled": true
   },
   "outputs": [],
   "source": [
    "process = CrawlerProcess({\n",
    "    'USER_AGENT': 'Mozilla/4.0 (compatible; MSIE 7.0; Windows NT 5.1)',\n",
    "    'FEED_FORMAT': 'json',\n",
    "    'FEED_URI': 'data/raw/bhajans_info.json'\n",
    "})\n",
    "\n",
    "process.crawl(BhajanSpider)\n",
    "process.start()"
   ]
  }
 ],
 "metadata": {
  "kernelspec": {
   "display_name": "Python 3",
   "language": "python",
   "name": "python3"
  },
  "language_info": {
   "codemirror_mode": {
    "name": "ipython",
    "version": 3
   },
   "file_extension": ".py",
   "mimetype": "text/x-python",
   "name": "python",
   "nbconvert_exporter": "python",
   "pygments_lexer": "ipython3",
   "version": "3.7.7"
  }
 },
 "nbformat": 4,
 "nbformat_minor": 4
}
