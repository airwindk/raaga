{
 "cells": [
  {
   "cell_type": "code",
   "execution_count": 1,
   "metadata": {},
   "outputs": [],
   "source": [
    "import numpy as np\n",
    "import pandas as pd\n",
    "import torch\n",
    "from torch.utils.data import Dataset, DataLoader, Subset, WeightedRandomSampler\n",
    "import librosa\n",
    "\n",
    "import logging\n",
    "import config\n",
    "import os\n",
    "os.chdir(\"..\")"
   ]
  },
  {
   "cell_type": "code",
   "execution_count": 2,
   "metadata": {},
   "outputs": [],
   "source": [
    "from collections import Counter\n",
    "from random import shuffle"
   ]
  },
  {
   "cell_type": "code",
   "execution_count": 138,
   "metadata": {},
   "outputs": [],
   "source": [
    "class Bhajan():\n",
    "    \n",
    "    def __init__(self, **kwargs):\n",
    "        \n",
    "        options = {'raaga': None,\n",
    "                   'language': None,\n",
    "                   'deity': None,\n",
    "                   'beat': None,\n",
    "                   'tempo': None}\n",
    "        options.update(kwargs)\n",
    "        \n",
    "        self.raaga = options['raaga']\n",
    "        self.language = options['language']\n",
    "        self.deity = options['deity']\n",
    "        self.beat = options['beat']\n",
    "        self.tempo = options['tempo']\n",
    "        \n",
    "        \n",
    "    def resize_array(self, array, length):\n",
    "        resize_array = np.zeros((array.shape[0], length))\n",
    "        \n",
    "        if array.shape[1] >= length:\n",
    "            resize_array = array[:,:length]\n",
    "        else:\n",
    "            resize_array[:,:array.shape[1]] = array\n",
    "        return resize_array\n",
    "        \n",
    "    def load_audio(self, file, **kwargs):\n",
    "        options = {'sr': 22050,\n",
    "                   'n_fft': 4096,\n",
    "                   'n_chroma': 12,\n",
    "                   'feature_length': 1024\n",
    "                  }\n",
    "        options.update(kwargs)\n",
    "        \n",
    "        \n",
    "        y, sr = librosa.load(file)\n",
    "        self.chromagram = librosa.feature.chroma_stft(y=y, \n",
    "                                                      sr=options['sr'], \n",
    "                                                      n_fft=options['n_fft'], \n",
    "                                                      n_chroma=options['n_chroma'])\n",
    "        self.chromagram = self.resize_array(self.chromagram, options['feature_length'])\n",
    "\n",
    "class BhajanDataset(Dataset):\n",
    "    \n",
    "    def __init__(self, file_name, **kwargs):\n",
    "        options = {'target': 'raaga'}\n",
    "        options.update(kwargs)\n",
    "        \n",
    "        df = pd.read_csv(file_name)\n",
    "        \n",
    "        if options['target'] not in df.columns:\n",
    "            raise ValueError(f\"Target col {options['target']} not found\")\n",
    "            \n",
    "        self.df = df\n",
    "        \n",
    "        if options['target'] in list(config.labels_map.keys()):\n",
    "            self.df = self.df.replace({options['target']: config.labels_map[options['target']]})\n",
    "        else: \n",
    "            raise ValueError(f\"Target col {options['target']} not found\")\n",
    "        \n",
    "        self.labels = self.df[options['target']].to_numpy()\n",
    "        self.training_data = []\n",
    "        self.n_samples = df.shape[0]\n",
    "        \n",
    "    def __getitem__(self, index):\n",
    "        row = self.df.iloc[index]\n",
    "        bhajan = Bhajan(raaga=row['raaga'],\n",
    "                        language=row['language'],\n",
    "                        deity=row['deity'],\n",
    "                        beat=row['beat'],\n",
    "                        tempo=row['tempo'])\n",
    "        \n",
    "        bhajan.load_audio(row['file_name'])\n",
    "        chromagram = torch.from_numpy(bhajan.chromagram)\n",
    "\n",
    "        label = torch.from_numpy(np.asarray(self.labels[index]))\n",
    "        \n",
    "        return chromagram, label\n",
    "    \n",
    "    def __len__(self):\n",
    "        return self.df.shape[0]\n",
    "    \n",
    "    \n"
   ]
  },
  {
   "cell_type": "code",
   "execution_count": 134,
   "metadata": {},
   "outputs": [],
   "source": [
    "def get_sampler(data):\n",
    "    target = data.labels\n",
    "    \n",
    "    counts = np.unique(target, return_counts=True)[1]\n",
    "    weights = 1.0 / torch.tensor(counts, dtype=torch.float)\n",
    "    \n",
    "    resampling_weights = weights[target]\n",
    "    sampler = WeightedRandomSampler(resampling_weights, len(data))\n",
    "    \n",
    "    return sampler\n",
    "\n",
    "def get_dataloaders(file_name=\"data/processed/bhajans_info_cleaned.csv\", batch_size=10, lengths=[0.7,0.2,0.1]):\n",
    "    data = BhajanDataset(file_name=file_name)\n",
    "    \n",
    "    train_size = int(lengths[0] * len(data))\n",
    "    valid_size = int(lengths[1] * len(data))\n",
    "    test_size = len(data) - train_size - valid_size\n",
    "    \n",
    "    train_data, valid_data, test_data = torch.utils.data.random_split(data, [train_size, valid_size, test_size])\n",
    "    \n",
    "    sampler = get_sampler(data)\n",
    "    \n",
    "    train_loader = DataLoader(train_data, sampler=sampler, batch_size=batch_size)\n",
    "    valid_loader = DataLoader(valid_data, sampler=sampler, batch_size=batch_size)\n",
    "    test_loader = DataLoader(test_data, sampler=sampler, batch_size=batch_size)\n",
    "    \n",
    "    return train_loader, valid_loader, test_loader\n"
   ]
  },
  {
   "cell_type": "code",
   "execution_count": 143,
   "metadata": {},
   "outputs": [
    {
     "name": "stdout",
     "output_type": "stream",
     "text": [
      "27\n"
     ]
    }
   ],
   "source": [
    "x,y = data[1]"
   ]
  }
 ],
 "metadata": {
  "kernelspec": {
   "display_name": "Python 3",
   "language": "python",
   "name": "python3"
  },
  "language_info": {
   "codemirror_mode": {
    "name": "ipython",
    "version": 3
   },
   "file_extension": ".py",
   "mimetype": "text/x-python",
   "name": "python",
   "nbconvert_exporter": "python",
   "pygments_lexer": "ipython3",
   "version": "3.7.7"
  }
 },
 "nbformat": 4,
 "nbformat_minor": 4
}
