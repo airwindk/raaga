{
 "cells": [
  {
   "cell_type": "code",
   "execution_count": 2,
   "metadata": {},
   "outputs": [],
   "source": [
    "import config"
   ]
  },
  {
   "cell_type": "code",
   "execution_count": 5,
   "metadata": {},
   "outputs": [],
   "source": [
    "import torch\n",
    "torch.manual_seed(123)\n",
    "import torch.nn as nn\n",
    "\n",
    "class RaagaModel(nn.Module):\n",
    "    def __init__(self, hparams):\n",
    "        super(upchannel, self).__init__()\n",
    "\n",
    "        self._extractor = nn.Sequential(\n",
    "            nn.Conv2d(in_channels=1, out_channels=64, kernel_size=3, stride=1, padding=1),\n",
    "            nn.BatchNorm2d(64),\n",
    "            nn.ReLU(),\n",
    "            nn.MaxPool2d(kernel_size=2),\n",
    "\n",
    "            nn.Conv2d(in_channels=64, out_channels=128, kernel_size=3, stride=1, padding=1),\n",
    "            nn.BatchNorm2d(128),\n",
    "            nn.ReLU(),\n",
    "            nn.MaxPool2d(kernel_size=2),\n",
    "\n",
    "            nn.Conv2d(in_channels=128, out_channels=256, kernel_size=3, stride=1, padding=1),\n",
    "            nn.BatchNorm2d(256),\n",
    "            nn.ReLU(),\n",
    "            nn.MaxPool2d(kernel_sizeh=4),\n",
    "\n",
    "            nn.Conv2d(in_channels=256, out_channels=512, kernel_size=3, stride=1, padding=1),\n",
    "            nn.BatchNorm2d(512),\n",
    "            nn.ReLU(),\n",
    "            nn.MaxPool2d(kernel_size=4)\n",
    "        )\n",
    "\n",
    "        self._classifier = nn.Sequential(nn.Linear(in_features=2048, out_features=1024),\n",
    "                                         nn.ReLU(),\n",
    "                                         nn.Dropout(),\n",
    "                                         nn.Linear(in_features=1024, out_features=256),\n",
    "                                         nn.ReLU(),\n",
    "                                         nn.Dropout(),\n",
    "                                         nn.Linear(in_features=256, out_features=len(config.raaga_map)))\n",
    "        self.apply(self._init_weights)\n",
    "\n",
    "    def forward(self, x):\n",
    "        x = torch.unsqueeze(x,1)\n",
    "        x = self._extractor(x)\n",
    "        x = x.view(x.size(0), -1)\n",
    "        score = self._classifier(x)\n",
    "        return score\n",
    "\n",
    "    def _init_weights(self, layer) -> None:\n",
    "        if isinstance(layer, nn.Conv1d):\n",
    "            nn.init.kaiming_uniform_(layer.weight)\n",
    "        elif isinstance(layer, nn.Linear):\n",
    "            nn.init.xavier_uniform_(layer.weight)"
   ]
  }
 ],
 "metadata": {
  "kernelspec": {
   "display_name": "Python 3",
   "language": "python",
   "name": "python3"
  },
  "language_info": {
   "codemirror_mode": {
    "name": "ipython",
    "version": 3
   },
   "file_extension": ".py",
   "mimetype": "text/x-python",
   "name": "python",
   "nbconvert_exporter": "python",
   "pygments_lexer": "ipython3",
   "version": "3.7.7"
  }
 },
 "nbformat": 4,
 "nbformat_minor": 4
}
